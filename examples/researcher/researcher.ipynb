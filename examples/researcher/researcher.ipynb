{
 "cells": [
  {
   "cell_type": "markdown",
   "metadata": {},
   "source": [
    "In this example, we will build Exa Researcher, a JavaScript app that, given a research topic, automatically searches for relevant sources with Exa's **Auto Search** and synthesizes the information into a reliable research report.\n",
    "\n",
    "You can play with the code in your browser with this Replit [template](https://replit.com/@olafblitz/exa-researcher?v=1).\n",
    "\n",
    "Alternatively, this [interactive notebook](https://github.com/exa-labs/exa-js/tree/master/examples/researcher/researcher.ipynb) was made with the Deno Javascript kernel for Jupyter so you can easily run it locally. Check out the [plain JS version](https://github.com/exa-labs/exa-js/tree/master/examples/researcher/researcher.mjs) if you prefer a regular Javascript file you can run with NodeJS, or want to skip to the final result. If you'd like to run this notebook locally, [Installing Deno](https://docs.deno.com/runtime/manual/getting_started/installation) and [connecting Deno to Jupyter](https://docs.deno.com/runtime/manual/tools/jupyter) is fast and easy.\n",
    "\n",
    "To play with this code, first we need a [Exa API key](https://dashboard.exa.ai/overview) and an [OpenAI API key](https://platform.openai.com/api-keys). Get 1000 free Exa searches per month just for [signing up](https://dashboard.exa.ai/overview)!"
   ]
  },
  {
   "cell_type": "markdown",
   "metadata": {},
   "source": [
    "# Setup\n",
    "\n",
    "Let's import the Exa and OpenAI SDKs and put in our API keys to create a client object for each. Make sure to pick the right imports for your runtime and paste or load your API keys."
   ]
  },
  {
   "cell_type": "code",
   "execution_count": 12,
   "metadata": {},
   "outputs": [],
   "source": [
    "// Deno imports\n",
    "import Exa from 'npm:exa-js';\n",
    "import OpenAI from 'npm:openai';\n",
    "\n",
    "// NodeJS imports\n",
    "//import Exa from 'exa-js';\n",
    "//import OpenAI from 'openai';\n",
    "\n",
    "\n",
    "const EXA_API_KEY = \"API key here\" // insert or load your API key here\n",
    "const OPENAI_API_KEY = \"API key here\"// insert or load your API key here\n",
    "\n",
    "const exa = new Exa(EXA_API_KEY);\n",
    "const openai = new OpenAI({ apiKey: OPENAI_API_KEY });"
   ]
  },
  {
   "cell_type": "markdown",
   "metadata": {},
   "source": [
    "Since we'll be making several calls to the OpenAI API to get a completion from GPT-3.5 Turbo, let's make a simple utility function so we can pass in the system and user messages directly, and get the LLM's response back as a string."
   ]
  },
  {
   "cell_type": "code",
   "execution_count": 3,
   "metadata": {},
   "outputs": [],
   "source": [
    "async function getLLMResponse({system = 'You are a helpful assistant.', user = '', temperature = 1, model = 'gpt-3.5-turbo'}){\n",
    "    const completion = await openai.chat.completions.create({\n",
    "        model,\n",
    "        temperature,\n",
    "        messages: [\n",
    "            {'role': 'system', 'content': system},\n",
    "            {'role': 'user', 'content': user},\n",
    "        ]\n",
    "    });\n",
    "    return completion.choices[0].message.content;\n",
    "}"
   ]
  },
  {
   "cell_type": "markdown",
   "metadata": {},
   "source": [
    "Okay, great! Now let's starting building Exa Researcher.\n",
    "\n",
    "# Exa Auto Search\n",
    "\n",
    "The app should be able to automatically generate research reports for all kinds of different topics. Here's two to start:"
   ]
  },
  {
   "cell_type": "code",
   "execution_count": 4,
   "metadata": {},
   "outputs": [],
   "source": [
    "const SAMA_TOPIC = 'Sam Altman';\n",
    "const ART_TOPIC = 'renaissance art';"
   ]
  },
  {
   "cell_type": "markdown",
   "metadata": {},
   "source": [
    "The first thing our researcher has to do is decide what kind of search to do for the given topic. \n",
    "\n",
    "Exa offers two kinds of search: **neural** and **keyword** search. Here's how we decide:\n",
    "\n",
    "- Neural search is preferred when the query is broad and complex because it lets us retrieve high quality, semantically relevant data. Neural search is especially suitable when a topic is well-known and popularly discussed on the Internet, allowing the machine learning model to retrieve contents which are more likely recommended by real humans.  \n",
    "- Keyword search is useful when the topic is specific, local or obscure. If the query is a specific person's name, and identifier, or acronym, such that relevant results will contain the query itself, keyword search may do well. And if the machine learning model doesn't know about the topic, but relevant documents can be found by directly matching the search query, keyword search may be necessary.\n",
    "\n",
    "Conveniently, Exa's Auto Search feature (on by default) will automatically decide whether to use `keyword` or `neural` search for each query. For example, if a query is a specific person's name, Exa would decide to use keyword search.\n",
    "\n",
    "Now, we'll create a helper function to generate search queries for our topic."
   ]
  },
  {
   "cell_type": "code",
   "execution_count": 5,
   "metadata": {},
   "outputs": [],
   "source": [
    "async function generateSearchQueries(topic, n){\n",
    "    const userPrompt = `I'm writing a research report on ${topic} and need help coming up with diverse search queries.\n",
    "                        Please generate a list of ${n} search queries that would be useful for writing a research report on ${topic}. These queries can be in various formats, from simple keywords to more complex phrases. Do not add any formatting or numbering to the queries.`;\n",
    "\n",
    "    const completion = await getLLMResponse({\n",
    "        system: 'The user will ask you to help generate some search queries. Respond with only the suggested queries in plain text with no extra formatting, each on its own line.',\n",
    "        user: userPrompt,\n",
    "        temperature: 1\n",
    "    });\n",
    "    return completion.split('\\n').filter(s => s.trim().length > 0).slice(0, n);\n",
    "}\n"
   ]
  },
  {
   "cell_type": "markdown",
   "metadata": {},
   "source": [
    "Next, let's write another function that actually calls the Exa API to perform searches using Auto Search"
   ]
  },
  {
   "cell_type": "code",
   "execution_count": 6,
   "metadata": {},
   "outputs": [],
   "source": [
    "async function getSearchResults(queries, linksPerQuery=2){\n",
    "    let results = [];\n",
    "    for (const query of queries){\n",
    "        const searchResponse = await exa.searchAndContents(query, { \n",
    "            numResults: linksPerQuery, \n",
    "            useAutoprompt: false \n",
    "        });\n",
    "        results.push(...searchResponse.results);\n",
    "    }\n",
    "    return results;\n",
    "}"
   ]
  },
  {
   "cell_type": "markdown",
   "metadata": {},
   "source": [
    "# Writing a report with GPT-4\n",
    "\n",
    "The final step is to instruct the LLM to synthesize the content into a research report, including citations of the original links. We can do that by pairing the content and the URLs and writing them into the prompt."
   ]
  },
  {
   "cell_type": "code",
   "execution_count": 7,
   "metadata": {},
   "outputs": [],
   "source": [
    "async function synthesizeReport(topic, searchContents, contentSlice = 750){\n",
    "    const inputData = searchContents.map(item => `--START ITEM--\\nURL: ${item.url}\\nCONTENT: ${item.text.slice(0, contentSlice)}\\n--END ITEM--\\n`).join('');\n",
    "    return await getLLMResponse({\n",
    "        system: 'You are a helpful research assistant. Write a report according to the user\\'s instructions.',\n",
    "        user: 'Input Data:\\n' + inputData + `Write a two paragraph research report about ${topic} based on the provided information. Include as many sources as possible. Provide citations in the text using footnote notation ([#]). First provide the report, followed by a single \"References\" section that lists all the URLs used, in the format [#] <url>.`,\n",
    "        //model: 'gpt-4' //want a better report? use gpt-4 (but it costs more)\n",
    "    });\n",
    "}"
   ]
  },
  {
   "cell_type": "markdown",
   "metadata": {},
   "source": [
    "# All Together Now\n",
    "\n",
    "Now, let's just wrap everything into one Researcher function that strings together all the functions we've written. Given a user's research topic, the Researcher will generate search queries, feed those queries to Exa Auto Search, and finally use an LLM to synthesize the retrieved information. Three simple steps!"
   ]
  },
  {
   "cell_type": "code",
   "execution_count": 8,
   "metadata": {},
   "outputs": [],
   "source": [
    "async function researcher(topic){\n",
    "    console.log(`Starting research on topic: \"${topic}\"`);\n",
    "    \n",
    "    const searchQueries = await generateSearchQueries(topic, 3);\n",
    "    console.log(\"Generated search queries:\", searchQueries);\n",
    "    \n",
    "    const searchResults = await getSearchResults(searchQueries);\n",
    "    console.log(`Found ${searchResults.length} search results. Here's the first one:`, searchResults[0]);\n",
    "    \n",
    "    console.log(\"Synthesizing report...\");\n",
    "    const report = await synthesizeReport(topic, searchResults);\n",
    "    \n",
    "    return report;\n",
    "}"
   ]
  },
  {
   "cell_type": "markdown",
   "metadata": {},
   "source": [
    "In just a couple lines of code, we've used Exa to go from a research topic to a valuable essay with up-to-date sources"
   ]
  },
  {
   "cell_type": "code",
   "execution_count": 10,
   "metadata": {},
   "outputs": [
    {
     "name": "stdout",
     "output_type": "stream",
     "text": [
      "Starting research on topic: \"Sam Altman\"\n",
      "Generated search queries: [\n",
      "  \"Sam Altman biography\",\n",
      "  \"Sam Altman Y Combinator contributions\",\n",
      "  \"Sam Altman latest projects and investments\"\n",
      "]\n",
      "Synthesizing report...\n",
      "**Research Report on Sam Altman**\n",
      "\n",
      "Sam Altman, born Samuel H. Altman on April 22, 1985, is a prominent American entrepreneur, investor, programmer, and blogger[^1]. Altman is widely known for his roles as the CEO of OpenAI and the former president of Y Combinator. He is recognized for his contributions to the tech industry and his expertise in business and technology ventures. Altman's passion for entrepreneurship and innovation is evident in his work, as he has been involved in various successful projects such as Loopt and OpenAI[^2]. His diverse experiences and leadership roles in prominent organizations showcase his strategic vision and commitment to pushing boundaries in the tech world.\n",
      "\n",
      "Additionally, Altman has been actively engaged in the startup ecosystem, providing valuable insights and advice to aspiring founders. Through his blog, Altman emphasizes the importance of idea generation for startup success[^3]. His emphasis on the significance of founders having a plethora of ideas underscores his belief in the creative process and innovation as essential elements for entrepreneurial endeavors. Altman's mentorship and advisory roles in organizations such as Y Combinator demonstrate his commitment to nurturing and supporting young talent in the tech industry.\n",
      "\n",
      "**References**\n",
      "[^1] Wikipedia - Sam Altman. [https://en.wikipedia.org/wiki/Sam_Altman]\n",
      "[^2] AngelList - Sam Altman. [https://angel.co/p/sama]\n",
      "[^3] Sam Altman's Blog. [http://blog.samaltman.com/]\n"
     ]
    }
   ],
   "source": [
    "console.log(\"Researching Sam Altman:\");\n",
    "const samaReport = await researcher(SAMA_TOPIC);\n",
    "console.log(\"Sam Altman Report:\");\n",
    "console.log(samaReport);"
   ]
  },
  {
   "cell_type": "code",
   "execution_count": 11,
   "metadata": {},
   "outputs": [
    {
     "name": "stdout",
     "output_type": "stream",
     "text": [
      "Starting research on topic: \"renaissance art\"\n",
      "Generated search queries: [\n",
      "  \"renaissance art characteristics\",\n",
      "  \"influential renaissance artists\",\n",
      "  \"renaissance art techniques and materials\"\n",
      "]\n",
      "Synthesizing report...\n",
      "**Research Report on Renaissance Art:**\n",
      "\n",
      "The Renaissance period, spanning from the 14th to the 17th centuries, was a transformative era in the realms of art, painting, sculpture, architecture, music, and literature across Europe. Characterized by a renewed emphasis on nature, a revival of classical learning, and a more individualistic approach towards man[#1], Renaissance art marked a departure from medieval artistic conventions. Artists during this time found inspiration in the classical art of ancient Greece and Rome, while also embracing scientific exploration to develop new techniques such as perspective image rendering for three-dimensional effects on flat surfaces[#2]. The shift towards humanism played a crucial role in liberating artists from the restrictions imposed by Christian theology, allowing them to explore themes like the beauty of the human body and architectural constructs[#2]. Figures like Piero Della Francesca and Raphael exemplified the spirit of the Renaissance through their groundbreaking works, contributing significantly to the evolution of art during this period[#3][#4].\n",
      "\n",
      "Lorenzo Lotto's portrait of Saint Catherine stands as a vivid example of the brilliance and vibrancy achieved by Renaissance painters. The skilled use of colors like intense greens and deep reds, along with intricate detailing of fabric textures, brought a sense of life and vibrancy to the painting, capturing the viewer's attention and admiration[#5]. The art of color during the Renaissance was not limited to painting but extended to various trades like glassmaking, textile dyeing, and pigment preparation. Venetian colore, in particular, was renowned for its sheer brilliance and innovative use of colors brought forth by specialized artists and color merchants who offered a diverse range of materials for artisans and craftsmen involved in the vibrant color industry[#6].\n",
      "\n",
      "**References:**\n",
      "[#1] https://www.britannica.com/art/Renaissance-art\n",
      "[#2] https://www.artisoo.com/shop-by-style-renaissance-c-66_177_179.html\n",
      "[#3] https://www.artsy.net/artist/piero-della-francesca\n",
      "[#4] https://www.artsy.net/artist/raphael\n",
      "[#5] https://www.nga.gov/blog/renaissance-painting-glows.html\n",
      "[#6] https://www.nga.gov/conservation/science/16th-century-pigments.html\n"
     ]
    }
   ],
   "source": [
    "console.log(\"\\n\\nResearching Renaissance Art:\");\n",
    "const artReport = await researcher(ART_TOPIC);\n",
    "console.log(\"Renaissance Art Report:\");\n",
    "console.log(artReport);"
   ]
  }
 ],
 "metadata": {
  "kernelspec": {
   "display_name": "Deno",
   "language": "typescript",
   "name": "deno"
  },
  "language_info": {
   "codemirror_mode": "typescript",
   "file_extension": ".ts",
   "mimetype": "text/x.typescript",
   "name": "typescript",
   "nbconvert_exporter": "script",
   "pygments_lexer": "typescript",
   "version": "5.5.2"
  }
 },
 "nbformat": 4,
 "nbformat_minor": 2
}
